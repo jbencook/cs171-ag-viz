{
 "metadata": {
  "name": ""
 },
 "nbformat": 3,
 "nbformat_minor": 0,
 "worksheets": [
  {
   "cells": [
    {
     "cell_type": "code",
     "collapsed": false,
     "input": [
      "%matplotlib inline\n",
      "import matplotlib.pyplot as plt\n",
      "import pandas as pd\n",
      "import numpy as np\n",
      "import seaborn\n",
      "from operator import itemgetter\n",
      "import os\n",
      "import psycopg2\n",
      "import psycopg2.extras as extras\n",
      "import warnings\n",
      "warnings.filterwarnings('ignore')"
     ],
     "language": "python",
     "metadata": {},
     "outputs": [],
     "prompt_number": 1
    },
    {
     "cell_type": "code",
     "collapsed": false,
     "input": [
      "con = psycopg2.connect(database=os.environ['RDS_DB_NAME'], \n",
      "                       password=os.environ['RDS_PASSWORD'],\n",
      "                       user=os.environ['RDS_USERNAME'],\n",
      "                       host=os.environ['RDS_HOSTNAME'])\n",
      "cur = con.cursor(cursor_factory=extras.DictCursor)"
     ],
     "language": "python",
     "metadata": {},
     "outputs": [],
     "prompt_number": 2
    },
    {
     "cell_type": "code",
     "collapsed": false,
     "input": [
      "def fetch_df(query):\n",
      "    cur.execute(query)\n",
      "    res = cur.fetchall()\n",
      "    try:\n",
      "        cols = res[0].keys()\n",
      "        df = {}\n",
      "        for c in cols:\n",
      "            df[c] = map(itemgetter(c), res)\n",
      "        return pd.DataFrame(df)\n",
      "    except:\n",
      "        return None"
     ],
     "language": "python",
     "metadata": {},
     "outputs": [],
     "prompt_number": 3
    },
    {
     "cell_type": "code",
     "collapsed": false,
     "input": [
      "county = fetch_df(\"select st_x(st_centroid(geom)) as lon, st_y(st_centroid(geom)) as lat, statefp, countyfp, name from county;\")"
     ],
     "language": "python",
     "metadata": {},
     "outputs": [],
     "prompt_number": 4
    },
    {
     "cell_type": "code",
     "collapsed": false,
     "input": [
      "county['countyfp'] = county.countyfp.astype(int)\n",
      "county['statefp'] = county.statefp.astype(int)"
     ],
     "language": "python",
     "metadata": {},
     "outputs": [],
     "prompt_number": 5
    },
    {
     "cell_type": "code",
     "collapsed": false,
     "input": [
      "county.head()"
     ],
     "language": "python",
     "metadata": {},
     "outputs": [
      {
       "html": [
        "<div style=\"max-height:1000px;max-width:1500px;overflow:auto;\">\n",
        "<table border=\"1\" class=\"dataframe\">\n",
        "  <thead>\n",
        "    <tr style=\"text-align: right;\">\n",
        "      <th></th>\n",
        "      <th>countyfp</th>\n",
        "      <th>lat</th>\n",
        "      <th>lon</th>\n",
        "      <th>name</th>\n",
        "      <th>statefp</th>\n",
        "    </tr>\n",
        "  </thead>\n",
        "  <tbody>\n",
        "    <tr>\n",
        "      <th>0</th>\n",
        "      <td>   1</td>\n",
        "      <td> 29.674755</td>\n",
        "      <td> -82.357701</td>\n",
        "      <td>       Alachua</td>\n",
        "      <td> 12</td>\n",
        "    </tr>\n",
        "    <tr>\n",
        "      <th>1</th>\n",
        "      <td> 147</td>\n",
        "      <td> 37.224303</td>\n",
        "      <td> -78.441083</td>\n",
        "      <td> Prince Edward</td>\n",
        "      <td> 51</td>\n",
        "    </tr>\n",
        "    <tr>\n",
        "      <th>2</th>\n",
        "      <td>   7</td>\n",
        "      <td> 39.648174</td>\n",
        "      <td>-110.588983</td>\n",
        "      <td>        Carbon</td>\n",
        "      <td> 49</td>\n",
        "    </tr>\n",
        "    <tr>\n",
        "      <th>3</th>\n",
        "      <td>  17</td>\n",
        "      <td> 40.336945</td>\n",
        "      <td> -75.106865</td>\n",
        "      <td>         Bucks</td>\n",
        "      <td> 42</td>\n",
        "    </tr>\n",
        "    <tr>\n",
        "      <th>4</th>\n",
        "      <td>  59</td>\n",
        "      <td> 44.547777</td>\n",
        "      <td> -99.004937</td>\n",
        "      <td>          Hand</td>\n",
        "      <td> 46</td>\n",
        "    </tr>\n",
        "  </tbody>\n",
        "</table>\n",
        "<p>5 rows \u00d7 5 columns</p>\n",
        "</div>"
       ],
       "metadata": {},
       "output_type": "pyout",
       "prompt_number": 6,
       "text": [
        "   countyfp        lat         lon           name  statefp\n",
        "0         1  29.674755  -82.357701        Alachua       12\n",
        "1       147  37.224303  -78.441083  Prince Edward       51\n",
        "2         7  39.648174 -110.588983         Carbon       49\n",
        "3        17  40.336945  -75.106865          Bucks       42\n",
        "4        59  44.547777  -99.004937           Hand       46\n",
        "\n",
        "[5 rows x 5 columns]"
       ]
      }
     ],
     "prompt_number": 6
    },
    {
     "cell_type": "code",
     "collapsed": false,
     "input": [
      "df = pd.read_csv(\"county_yield_small_1910_2013.csv\")"
     ],
     "language": "python",
     "metadata": {},
     "outputs": [],
     "prompt_number": 7
    },
    {
     "cell_type": "code",
     "collapsed": false,
     "input": [
      "df.head()"
     ],
     "language": "python",
     "metadata": {},
     "outputs": [
      {
       "html": [
        "<div style=\"max-height:1000px;max-width:1500px;overflow:auto;\">\n",
        "<table border=\"1\" class=\"dataframe\">\n",
        "  <thead>\n",
        "    <tr style=\"text-align: right;\">\n",
        "      <th></th>\n",
        "      <th>Unnamed: 0</th>\n",
        "      <th>Year</th>\n",
        "      <th>State ANSI</th>\n",
        "      <th>County ANSI</th>\n",
        "      <th>State</th>\n",
        "      <th>County</th>\n",
        "      <th>Value</th>\n",
        "    </tr>\n",
        "  </thead>\n",
        "  <tbody>\n",
        "    <tr>\n",
        "      <th>0</th>\n",
        "      <td> 0</td>\n",
        "      <td> 2013</td>\n",
        "      <td> 1</td>\n",
        "      <td>  1</td>\n",
        "      <td> ALABAMA</td>\n",
        "      <td> AUTAUGA</td>\n",
        "      <td> 100.0</td>\n",
        "    </tr>\n",
        "    <tr>\n",
        "      <th>1</th>\n",
        "      <td> 1</td>\n",
        "      <td> 2013</td>\n",
        "      <td> 1</td>\n",
        "      <td> 11</td>\n",
        "      <td> ALABAMA</td>\n",
        "      <td> BULLOCK</td>\n",
        "      <td> 129.0</td>\n",
        "    </tr>\n",
        "    <tr>\n",
        "      <th>2</th>\n",
        "      <td> 2</td>\n",
        "      <td> 2013</td>\n",
        "      <td> 1</td>\n",
        "      <td> 47</td>\n",
        "      <td> ALABAMA</td>\n",
        "      <td>  DALLAS</td>\n",
        "      <td> 115.2</td>\n",
        "    </tr>\n",
        "    <tr>\n",
        "      <th>3</th>\n",
        "      <td> 3</td>\n",
        "      <td> 2013</td>\n",
        "      <td> 1</td>\n",
        "      <td> 51</td>\n",
        "      <td> ALABAMA</td>\n",
        "      <td>  ELMORE</td>\n",
        "      <td> 157.0</td>\n",
        "    </tr>\n",
        "    <tr>\n",
        "      <th>4</th>\n",
        "      <td> 4</td>\n",
        "      <td> 2013</td>\n",
        "      <td> 1</td>\n",
        "      <td> 91</td>\n",
        "      <td> ALABAMA</td>\n",
        "      <td> MARENGO</td>\n",
        "      <td> 121.1</td>\n",
        "    </tr>\n",
        "  </tbody>\n",
        "</table>\n",
        "<p>5 rows \u00d7 7 columns</p>\n",
        "</div>"
       ],
       "metadata": {},
       "output_type": "pyout",
       "prompt_number": 8,
       "text": [
        "   Unnamed: 0  Year  State ANSI  County ANSI    State   County  Value\n",
        "0           0  2013           1            1  ALABAMA  AUTAUGA  100.0\n",
        "1           1  2013           1           11  ALABAMA  BULLOCK  129.0\n",
        "2           2  2013           1           47  ALABAMA   DALLAS  115.2\n",
        "3           3  2013           1           51  ALABAMA   ELMORE  157.0\n",
        "4           4  2013           1           91  ALABAMA  MARENGO  121.1\n",
        "\n",
        "[5 rows x 7 columns]"
       ]
      }
     ],
     "prompt_number": 8
    },
    {
     "cell_type": "code",
     "collapsed": false,
     "input": [
      "full = pd.merge(df, county, left_on=['State ANSI', 'County ANSI'], right_on=['statefp', 'countyfp'])"
     ],
     "language": "python",
     "metadata": {},
     "outputs": [],
     "prompt_number": 9
    },
    {
     "cell_type": "code",
     "collapsed": false,
     "input": [
      "full.head()"
     ],
     "language": "python",
     "metadata": {},
     "outputs": [
      {
       "html": [
        "<div style=\"max-height:1000px;max-width:1500px;overflow:auto;\">\n",
        "<table border=\"1\" class=\"dataframe\">\n",
        "  <thead>\n",
        "    <tr style=\"text-align: right;\">\n",
        "      <th></th>\n",
        "      <th>Unnamed: 0</th>\n",
        "      <th>Year</th>\n",
        "      <th>State ANSI</th>\n",
        "      <th>County ANSI</th>\n",
        "      <th>State</th>\n",
        "      <th>County</th>\n",
        "      <th>Value</th>\n",
        "      <th>countyfp</th>\n",
        "      <th>lat</th>\n",
        "      <th>lon</th>\n",
        "      <th>name</th>\n",
        "      <th>statefp</th>\n",
        "    </tr>\n",
        "  </thead>\n",
        "  <tbody>\n",
        "    <tr>\n",
        "      <th>0</th>\n",
        "      <td>     0</td>\n",
        "      <td> 2013</td>\n",
        "      <td> 1</td>\n",
        "      <td> 1</td>\n",
        "      <td> ALABAMA</td>\n",
        "      <td> AUTAUGA</td>\n",
        "      <td> 100.0</td>\n",
        "      <td> 1</td>\n",
        "      <td> 32.534921</td>\n",
        "      <td>-86.642757</td>\n",
        "      <td> Autauga</td>\n",
        "      <td> 1</td>\n",
        "    </tr>\n",
        "    <tr>\n",
        "      <th>1</th>\n",
        "      <td>  3551</td>\n",
        "      <td> 2011</td>\n",
        "      <td> 1</td>\n",
        "      <td> 1</td>\n",
        "      <td> ALABAMA</td>\n",
        "      <td> AUTAUGA</td>\n",
        "      <td> 111.1</td>\n",
        "      <td> 1</td>\n",
        "      <td> 32.534921</td>\n",
        "      <td>-86.642757</td>\n",
        "      <td> Autauga</td>\n",
        "      <td> 1</td>\n",
        "    </tr>\n",
        "    <tr>\n",
        "      <th>2</th>\n",
        "      <td> 10637</td>\n",
        "      <td> 2007</td>\n",
        "      <td> 1</td>\n",
        "      <td> 1</td>\n",
        "      <td> ALABAMA</td>\n",
        "      <td> AUTAUGA</td>\n",
        "      <td>  40.0</td>\n",
        "      <td> 1</td>\n",
        "      <td> 32.534921</td>\n",
        "      <td>-86.642757</td>\n",
        "      <td> Autauga</td>\n",
        "      <td> 1</td>\n",
        "    </tr>\n",
        "    <tr>\n",
        "      <th>3</th>\n",
        "      <td> 12678</td>\n",
        "      <td> 2006</td>\n",
        "      <td> 1</td>\n",
        "      <td> 1</td>\n",
        "      <td> ALABAMA</td>\n",
        "      <td> AUTAUGA</td>\n",
        "      <td>  66.0</td>\n",
        "      <td> 1</td>\n",
        "      <td> 32.534921</td>\n",
        "      <td>-86.642757</td>\n",
        "      <td> Autauga</td>\n",
        "      <td> 1</td>\n",
        "    </tr>\n",
        "    <tr>\n",
        "      <th>4</th>\n",
        "      <td> 14742</td>\n",
        "      <td> 2005</td>\n",
        "      <td> 1</td>\n",
        "      <td> 1</td>\n",
        "      <td> ALABAMA</td>\n",
        "      <td> AUTAUGA</td>\n",
        "      <td> 103.0</td>\n",
        "      <td> 1</td>\n",
        "      <td> 32.534921</td>\n",
        "      <td>-86.642757</td>\n",
        "      <td> Autauga</td>\n",
        "      <td> 1</td>\n",
        "    </tr>\n",
        "  </tbody>\n",
        "</table>\n",
        "<p>5 rows \u00d7 12 columns</p>\n",
        "</div>"
       ],
       "metadata": {},
       "output_type": "pyout",
       "prompt_number": 10,
       "text": [
        "   Unnamed: 0  Year  State ANSI  County ANSI    State   County  Value  \\\n",
        "0           0  2013           1            1  ALABAMA  AUTAUGA  100.0   \n",
        "1        3551  2011           1            1  ALABAMA  AUTAUGA  111.1   \n",
        "2       10637  2007           1            1  ALABAMA  AUTAUGA   40.0   \n",
        "3       12678  2006           1            1  ALABAMA  AUTAUGA   66.0   \n",
        "4       14742  2005           1            1  ALABAMA  AUTAUGA  103.0   \n",
        "\n",
        "   countyfp        lat        lon     name  statefp  \n",
        "0         1  32.534921 -86.642757  Autauga        1  \n",
        "1         1  32.534921 -86.642757  Autauga        1  \n",
        "2         1  32.534921 -86.642757  Autauga        1  \n",
        "3         1  32.534921 -86.642757  Autauga        1  \n",
        "4         1  32.534921 -86.642757  Autauga        1  \n",
        "\n",
        "[5 rows x 12 columns]"
       ]
      }
     ],
     "prompt_number": 10
    },
    {
     "cell_type": "code",
     "collapsed": false,
     "input": [
      "len(full)"
     ],
     "language": "python",
     "metadata": {},
     "outputs": [
      {
       "metadata": {},
       "output_type": "pyout",
       "prompt_number": 11,
       "text": [
        "168902"
       ]
      }
     ],
     "prompt_number": 11
    },
    {
     "cell_type": "code",
     "collapsed": false,
     "input": [
      "station = fetch_df(\"select code, lon, lat from station;\")"
     ],
     "language": "python",
     "metadata": {},
     "outputs": [],
     "prompt_number": 12
    },
    {
     "cell_type": "code",
     "collapsed": false,
     "input": [
      "station.head()"
     ],
     "language": "python",
     "metadata": {},
     "outputs": [
      {
       "html": [
        "<div style=\"max-height:1000px;max-width:1500px;overflow:auto;\">\n",
        "<table border=\"1\" class=\"dataframe\">\n",
        "  <thead>\n",
        "    <tr style=\"text-align: right;\">\n",
        "      <th></th>\n",
        "      <th>code</th>\n",
        "      <th>lat</th>\n",
        "      <th>lon</th>\n",
        "    </tr>\n",
        "  </thead>\n",
        "  <tbody>\n",
        "    <tr>\n",
        "      <th>0</th>\n",
        "      <td> 205434</td>\n",
        "      <td> 43.6089</td>\n",
        "      <td> -84.2011</td>\n",
        "    </tr>\n",
        "    <tr>\n",
        "      <th>1</th>\n",
        "      <td> 342944</td>\n",
        "      <td> 35.2164</td>\n",
        "      <td> -99.8628</td>\n",
        "    </tr>\n",
        "    <tr>\n",
        "      <th>2</th>\n",
        "      <td> 358797</td>\n",
        "      <td> 43.9814</td>\n",
        "      <td>-117.2439</td>\n",
        "    </tr>\n",
        "    <tr>\n",
        "      <th>3</th>\n",
        "      <td> 020080</td>\n",
        "      <td> 32.3697</td>\n",
        "      <td>-112.8600</td>\n",
        "    </tr>\n",
        "    <tr>\n",
        "      <th>4</th>\n",
        "      <td> 021026</td>\n",
        "      <td> 33.3761</td>\n",
        "      <td>-112.5828</td>\n",
        "    </tr>\n",
        "  </tbody>\n",
        "</table>\n",
        "<p>5 rows \u00d7 3 columns</p>\n",
        "</div>"
       ],
       "metadata": {},
       "output_type": "pyout",
       "prompt_number": 13,
       "text": [
        "     code      lat       lon\n",
        "0  205434  43.6089  -84.2011\n",
        "1  342944  35.2164  -99.8628\n",
        "2  358797  43.9814 -117.2439\n",
        "3  020080  32.3697 -112.8600\n",
        "4  021026  33.3761 -112.5828\n",
        "\n",
        "[5 rows x 3 columns]"
       ]
      }
     ],
     "prompt_number": 13
    },
    {
     "cell_type": "code",
     "collapsed": false,
     "input": [
      "weather = fetch_df(\"select date - '2010-01-01' as day, station_code, \" + \n",
      "                   \"((tmax - 32)/1.8 + (tmin - 32)/1.8)/2 - 10 as gdd from weather \" + \n",
      "                   \"where extract(year from date)=2010 and tmin <> -9999 and tmax <> -9999 order by station_code, date;\")"
     ],
     "language": "python",
     "metadata": {},
     "outputs": [],
     "prompt_number": 19
    },
    {
     "cell_type": "code",
     "collapsed": false,
     "input": [
      "weather = pd.merge(weather, station, left_on=\"station_code\", right_on=\"code\")"
     ],
     "language": "python",
     "metadata": {},
     "outputs": [],
     "prompt_number": 20
    },
    {
     "cell_type": "code",
     "collapsed": false,
     "input": [
      "len(weather)"
     ],
     "language": "python",
     "metadata": {},
     "outputs": [
      {
       "metadata": {},
       "output_type": "pyout",
       "prompt_number": 21,
       "text": [
        "363146"
       ]
      }
     ],
     "prompt_number": 21
    },
    {
     "cell_type": "code",
     "collapsed": false,
     "input": [
      "\n",
      "plt.hist(weather.gdd.astype(np.float))"
     ],
     "language": "python",
     "metadata": {},
     "outputs": [
      {
       "metadata": {},
       "output_type": "pyout",
       "prompt_number": 22,
       "text": [
        "(array([   112.,   1483.,   8739.,  31408.,  65398.,  84004.,  85522.,\n",
        "        77665.,   8685.,    130.]),\n",
        " array([-43.88888889, -36.        , -28.11111111, -20.22222222,\n",
        "       -12.33333333,  -4.44444444,   3.44444444,  11.33333333,\n",
        "        19.22222222,  27.11111111,  35.        ]),\n",
        " <a list of 10 Patch objects>)"
       ]
      },
      {
       "metadata": {},
       "output_type": "display_data",
       "png": "[encoded data removed]",
       "text": [
        "<matplotlib.figure.Figure at 0x16571e90>"
       ]
      }
     ],
     "prompt_number": 22
    },
    {
     "cell_type": "code",
     "collapsed": false,
     "input": [
      "weather.head()"
     ],
     "language": "python",
     "metadata": {},
     "outputs": [
      {
       "html": [
        "<div style=\"max-height:1000px;max-width:1500px;overflow:auto;\">\n",
        "<table border=\"1\" class=\"dataframe\">\n",
        "  <thead>\n",
        "    <tr style=\"text-align: right;\">\n",
        "      <th></th>\n",
        "      <th>day</th>\n",
        "      <th>gdd</th>\n",
        "      <th>station_code</th>\n",
        "      <th>code</th>\n",
        "      <th>lat</th>\n",
        "      <th>lon</th>\n",
        "    </tr>\n",
        "  </thead>\n",
        "  <tbody>\n",
        "    <tr>\n",
        "      <th>0</th>\n",
        "      <td> 0</td>\n",
        "      <td>       0.8333333333333333</td>\n",
        "      <td> 011084</td>\n",
        "      <td> 011084</td>\n",
        "      <td> 31.0581</td>\n",
        "      <td>-87.0547</td>\n",
        "    </tr>\n",
        "    <tr>\n",
        "      <th>1</th>\n",
        "      <td> 1</td>\n",
        "      <td>      -5.5555555555555555</td>\n",
        "      <td> 011084</td>\n",
        "      <td> 011084</td>\n",
        "      <td> 31.0581</td>\n",
        "      <td>-87.0547</td>\n",
        "    </tr>\n",
        "    <tr>\n",
        "      <th>2</th>\n",
        "      <td> 2</td>\n",
        "      <td>      -6.9444444444444444</td>\n",
        "      <td> 011084</td>\n",
        "      <td> 011084</td>\n",
        "      <td> 31.0581</td>\n",
        "      <td>-87.0547</td>\n",
        "    </tr>\n",
        "    <tr>\n",
        "      <th>3</th>\n",
        "      <td> 3</td>\n",
        "      <td>  -9.16666666666666665000</td>\n",
        "      <td> 011084</td>\n",
        "      <td> 011084</td>\n",
        "      <td> 31.0581</td>\n",
        "      <td>-87.0547</td>\n",
        "    </tr>\n",
        "    <tr>\n",
        "      <th>4</th>\n",
        "      <td> 4</td>\n",
        "      <td> -10.83333333333333330000</td>\n",
        "      <td> 011084</td>\n",
        "      <td> 011084</td>\n",
        "      <td> 31.0581</td>\n",
        "      <td>-87.0547</td>\n",
        "    </tr>\n",
        "  </tbody>\n",
        "</table>\n",
        "<p>5 rows \u00d7 6 columns</p>\n",
        "</div>"
       ],
       "metadata": {},
       "output_type": "pyout",
       "prompt_number": 23,
       "text": [
        "   day                       gdd station_code    code      lat      lon\n",
        "0    0        0.8333333333333333       011084  011084  31.0581 -87.0547\n",
        "1    1       -5.5555555555555555       011084  011084  31.0581 -87.0547\n",
        "2    2       -6.9444444444444444       011084  011084  31.0581 -87.0547\n",
        "3    3   -9.16666666666666665000       011084  011084  31.0581 -87.0547\n",
        "4    4  -10.83333333333333330000       011084  011084  31.0581 -87.0547\n",
        "\n",
        "[5 rows x 6 columns]"
       ]
      }
     ],
     "prompt_number": 23
    },
    {
     "cell_type": "code",
     "collapsed": false,
     "input": [
      "import json"
     ],
     "language": "python",
     "metadata": {},
     "outputs": [],
     "prompt_number": 24
    },
    {
     "cell_type": "code",
     "collapsed": false,
     "input": [
      "json.encoder"
     ],
     "language": "python",
     "metadata": {},
     "outputs": [
      {
       "metadata": {},
       "output_type": "pyout",
       "prompt_number": 25,
       "text": [
        "<module 'json.encoder' from '/anaconda/lib/python2.7/json/encoder.pyc'>"
       ]
      }
     ],
     "prompt_number": 25
    },
    {
     "cell_type": "code",
     "collapsed": false,
     "input": [],
     "language": "python",
     "metadata": {},
     "outputs": [],
     "prompt_number": 28
    },
    {
     "cell_type": "code",
     "collapsed": false,
     "input": [
      "gdd = np.array([np.nan]* 365)\n",
      "gdd[np.array(weather[weather.station_code == \"011084\"].day)] = weather[weather.station_code == \"011084\"].gdd\n",
      "gdd[np.isnan(gdd)] = -9999"
     ],
     "language": "python",
     "metadata": {},
     "outputs": [],
     "prompt_number": 42
    },
    {
     "cell_type": "code",
     "collapsed": false,
     "input": [
      "json.dumps({\"hello\":list(np.round(gdd).astype(int))})"
     ],
     "language": "python",
     "metadata": {},
     "outputs": [
      {
       "metadata": {},
       "output_type": "pyout",
       "prompt_number": 43,
       "text": [
        "'{\"hello\": [1, -6, -7, -9, -11, -11, -10, -5, -12, -12, -13, -11, -7, -6, -5, -2, 5, -2, -1, 0, 6, 8, 3, 5, 4, 0, -2, -2, -1, 4, -5, -6, -4, -1, -2, 2, 0, -4, -8, -3, -3, -7, -6, -10, -6, -3, -6, -8, -6, -4, -3, -1, 2, 4, 0, -7, -6, -3, -4, -1, 0, -6, -5, -4, -3, -2, 1, 2, 7, 11, 10, 4, 3, 4, 0, 0, 0, 1, 3, 3, 0, -2, 4, 5, 4, 1, 5, 8, 2, 2, 5, 8, 8, 10, 12, 9, 11, 13, 6, 5, 5, 6, 7, 7, 8, 7, 7, 7, 8, 8, 6, 8, 9, 11, 12, 12, 9, 5, 5, 8, 9, 16, 17, 12, 13, 14, 14, 16, 9, 8, 10, 13, 15, 15, 15, 16, 12, 14, 14, 15, 15, 16, 16, 17, 17, 14, 15, 16, 16, 15, 15, 15, 16, 16, 16, 17, 17, 18, 16, 16, 18, 18, 18, 19, 20, -9999, -9999, -9999, -9999, -9999, -9999, -9999, -9999, -9999, -9999, -9999, -9999, -9999, -9999, -9999, -9999, -9999, -9999, -9999, -9999, -9999, -9999, -9999, -9999, -9999, -9999, -9999, -9999, -9999, -9999, -9999, 18, 18, 18, 17, 18, 19, 18, 20, 21, 20, 17, 19, 18, 18, 19, 21, 21, 22, 21, 21, 19, 19, 20, 20, 19, 19, 19, 19, 19, 18, 19, 19, 19, 19, 19, 18, 19, 19, 19, 19, 17, 17, 17, 17, 16, 16, 16, 16, 16, 17, 17, 13, 14, 18, 18, 17, 18, 18, 19, 16, 15, 17, 16, 15, 16, 18, 18, 18, 18, 17, 16, 17, 17, 14, 9, 9, 9, 11, 9, 9, 6, 3, 4, 6, 7, 9, 12, 12, 12, 11, 10, 5, 7, 6, 8, 8, 11, 8, 8, 8, 9, 14, 15, 17, 17, 6, 3, 9, 9, 11, 11, 6, 2, -2, -3, -2, 1, 2, 4, 5, 4, 6, 9, 8, 4, 1, 2, 6, 7, 9, 11, 13, 11, 12, -2, -4, -3, 6, 2, -5, -3, -1, 4, -6, -8, -7, -11, -7, -2, 2, -6, -11, -9, -1, 8, 0, -4, -4, -1, 3, 4, -5, -3, -4, -9, -10, -8, 0, 5]}'"
       ]
      }
     ],
     "prompt_number": 43
    },
    {
     "cell_type": "code",
     "collapsed": false,
     "input": [],
     "language": "python",
     "metadata": {},
     "outputs": []
    },
    {
     "cell_type": "code",
     "collapsed": false,
     "input": [
      "gdd_dict = {}\n",
      "\n",
      "for y in range(2000, 2013):\n",
      "    print y\n",
      "    weather = fetch_df(\"select date - '\" + str(year) + \"-01-01' as day, station_code, \" + \n",
      "                       \"((tmax - 32)/1.8 + (tmin - 32)/1.8)/2 - 10 as gdd from weather \" + \n",
      "                       \"where extract(year from date)=\" + str(year) + \" and \" + \n",
      "                       \"tmin <> -9999 and tmax <> -9999 order by station_code, date;\")\n",
      "    for code in np.unique(weather.station_code):\n",
      "        gdd = np.array([np.nan]* 366)\n",
      "        gdd[np.array(weather[weather.station_code == code].day)] = weather[weather.station_code == code].gdd\n",
      "        gdd[np.isnan(gdd)] = -9999        \n",
      "        gdd_dict[code + str(y)] = list(np.round(gdd[:-1]).astype(int))"
     ],
     "language": "python",
     "metadata": {},
     "outputs": [
      {
       "output_type": "stream",
       "stream": "stdout",
       "text": [
        "2000\n",
        "2001"
       ]
      },
      {
       "output_type": "stream",
       "stream": "stdout",
       "text": [
        "\n",
        "2002"
       ]
      },
      {
       "output_type": "stream",
       "stream": "stdout",
       "text": [
        "\n",
        "2003"
       ]
      },
      {
       "output_type": "stream",
       "stream": "stdout",
       "text": [
        "\n",
        "2004"
       ]
      },
      {
       "output_type": "stream",
       "stream": "stdout",
       "text": [
        "\n",
        "2005"
       ]
      },
      {
       "output_type": "stream",
       "stream": "stdout",
       "text": [
        "\n",
        "2006"
       ]
      },
      {
       "output_type": "stream",
       "stream": "stdout",
       "text": [
        "\n",
        "2007"
       ]
      },
      {
       "output_type": "stream",
       "stream": "stdout",
       "text": [
        "\n",
        "2008"
       ]
      },
      {
       "output_type": "stream",
       "stream": "stdout",
       "text": [
        "\n",
        "2009"
       ]
      },
      {
       "output_type": "stream",
       "stream": "stdout",
       "text": [
        "\n",
        "2010"
       ]
      },
      {
       "output_type": "stream",
       "stream": "stdout",
       "text": [
        "\n",
        "2011"
       ]
      },
      {
       "output_type": "stream",
       "stream": "stdout",
       "text": [
        "\n",
        "2012"
       ]
      },
      {
       "output_type": "stream",
       "stream": "stdout",
       "text": [
        "\n"
       ]
      }
     ],
     "prompt_number": 62
    },
    {
     "cell_type": "code",
     "collapsed": false,
     "input": [
      "f = open(\"gdd.json\", \"w\")"
     ],
     "language": "python",
     "metadata": {},
     "outputs": [],
     "prompt_number": 63
    },
    {
     "cell_type": "code",
     "collapsed": false,
     "input": [
      "f.write(json.dumps(gdd_dict))"
     ],
     "language": "python",
     "metadata": {},
     "outputs": [],
     "prompt_number": 64
    },
    {
     "cell_type": "code",
     "collapsed": false,
     "input": [
      "f.close()"
     ],
     "language": "python",
     "metadata": {},
     "outputs": [],
     "prompt_number": 65
    },
    {
     "cell_type": "code",
     "collapsed": false,
     "input": [
      "!ls -la gdd.json"
     ],
     "language": "python",
     "metadata": {},
     "outputs": [
      {
       "output_type": "stream",
       "stream": "stdout",
       "text": [
        "-rw-rw-r-- 1 ubuntu ubuntu 1741878 Apr  9 15:49 gdd.json\r\n"
       ]
      }
     ],
     "prompt_number": 60
    },
    {
     "cell_type": "code",
     "collapsed": false,
     "input": [],
     "language": "python",
     "metadata": {},
     "outputs": []
    }
   ],
   "metadata": {}
  }
 ]
}