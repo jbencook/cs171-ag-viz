{
 "metadata": {
  "name": ""
 },
 "nbformat": 3,
 "nbformat_minor": 0,
 "worksheets": [
  {
   "cells": [
    {
     "cell_type": "code",
     "collapsed": false,
     "input": [
      "import pandas as pd\n",
      "!ls\n",
      "data = pd.DataFrame.from_csv(\"county_yield_1910_2013.csv\", dtype=str)\n",
      "cols = [\"Year\", \"State ANSI\", \"County ANSI\", \"State\", \"County\", \"Value\"]\n",
      "data_filtered = data[cols]\n",
      "data_filtered\n",
      "# data_filtered.to_csv(\"county_yield_small_1910_2013.csv\")"
     ],
     "language": "python",
     "metadata": {},
     "outputs": [
      {
       "output_type": "stream",
       "stream": "stdout",
       "text": [
        "Untitled0.ipynb                  pines_2012.csv\r\n",
        "area-yield_04042014.csv          pines_soy_2008.csv\r\n",
        "county_03312014.csv              pines_soy_2009.csv\r\n",
        "county_yield_1910_2013.csv       pines_soy_2011.csv\r\n",
        "county_yield_1980_2013.csv       pines_soy_2013.csv\r\n",
        "county_yield_small_1910_2013.csv rt21_2009.csv\r\n",
        "kn40_soy_2008.csv                rt21_soy_2008.csv\r\n",
        "koz1_2009.csv                    sod_2012.csv\r\n",
        "koz1_2011.csv                    state_03312014.csv\r\n",
        "koz1_soy_2008.csv                station_03312014.csv\r\n",
        "koz1_soy_2010.csv                us-named.json\r\n",
        "koz1_soy_2012.csv                wmk1_2009.csv\r\n",
        "koz2_2009.csv                    wmk1_2011.csv\r\n",
        "koz2_2011.csv                    wmk1_2013.csv\r\n",
        "koz2_soy_2008.csv                wmk1_soy_2008.csv\r\n",
        "koz2_soy_2010.csv                wmk1_soy_2010.csv\r\n",
        "koz2_soy_2012.csv                wmk1_soy_2012.csv\r\n",
        "koz3_2008.csv                    wmk4_2008.csv\r\n",
        "koz3_2009.csv                    wmk4_2010.csv\r\n",
        "local-yield_04042014.csv         wmk4_2012.csv\r\n",
        "maguire_2012.csv                 wmk4_soy_2009.csv\r\n",
        "nebraska.geojson                 wmk4_soy_2011.csv\r\n",
        "nwcc-station_03312014.csv        wmk4_soy_2013.csv\r\n",
        "nwcc_03312014.csv                wmk5_2009.csv\r\n",
        "pines_2008.csv                   wmk5_soy_2008.csv\r\n",
        "pines_2010.csv\r\n"
       ]
      },
      {
       "html": [
        "<pre>\n",
        "&lt;class 'pandas.core.frame.DataFrame'&gt;\n",
        "Index: 173061 entries, SURVEY to SURVEY\n",
        "Data columns (total 6 columns):\n",
        "Year           173061  non-null values\n",
        "State ANSI     173061  non-null values\n",
        "County ANSI    169037  non-null values\n",
        "State          173061  non-null values\n",
        "County         173061  non-null values\n",
        "Value          173061  non-null values\n",
        "dtypes: float64(2), int64(2), object(2)\n",
        "</pre>"
       ],
       "metadata": {},
       "output_type": "pyout",
       "prompt_number": 5,
       "text": [
        "<class 'pandas.core.frame.DataFrame'>\n",
        "Index: 173061 entries, SURVEY to SURVEY\n",
        "Data columns (total 6 columns):\n",
        "Year           173061  non-null values\n",
        "State ANSI     173061  non-null values\n",
        "County ANSI    169037  non-null values\n",
        "State          173061  non-null values\n",
        "County         173061  non-null values\n",
        "Value          173061  non-null values\n",
        "dtypes: float64(2), int64(2), object(2)"
       ]
      }
     ],
     "prompt_number": 5
    },
    {
     "cell_type": "code",
     "collapsed": false,
     "input": [],
     "language": "python",
     "metadata": {},
     "outputs": []
    }
   ],
   "metadata": {}
  }
 ]
}